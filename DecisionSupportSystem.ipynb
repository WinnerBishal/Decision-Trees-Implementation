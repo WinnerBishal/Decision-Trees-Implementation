{
 "cells": [
  {
   "cell_type": "code",
   "execution_count": 30,
   "id": "d4fef6d4",
   "metadata": {},
   "outputs": [],
   "source": [
    "def obesity_diagnosis(height, weight, age, gender, CH2O):\n",
    "    if weight <= 87.15 :\n",
    "        if weight <= 60.55:\n",
    "            return'No Obesity'\n",
    "        elif weight > 60.55 :\n",
    "            if height <= 1.64:\n",
    "                if weight <= 74.71:\n",
    "                    return'Overweight'\n",
    "                elif weight > 74.71:\n",
    "                    return 'Obesity'\n",
    "            elif height > 1.64:\n",
    "                if weight <= 71.46:\n",
    "                    return 'No Obesity'\n",
    "                elif weight > 71.46:\n",
    "                    if height <= 1.75:\n",
    "                        return 'Overweight'\n",
    "                    elif height > 1.75:\n",
    "                        if weight <= 80.06:\n",
    "                            return 'No Obesity'\n",
    "                        elif weight > 80.06:\n",
    "                            return 'Overweight'\n",
    "    elif weight > 87.15:\n",
    "        if weight <= 100.03:\n",
    "            if height <= 1.81:\n",
    "                return 'Obesity'\n",
    "            elif height > 1.81:\n",
    "                return 'Overweight'\n",
    "        elif weight > 100.03:\n",
    "            return 'Obesity'          "
   ]
  },
  {
   "cell_type": "code",
   "execution_count": 31,
   "id": "89a7f9df",
   "metadata": {},
   "outputs": [
    {
     "data": {
      "text/plain": [
       "'Overweight'"
      ]
     },
     "execution_count": 31,
     "metadata": {},
     "output_type": "execute_result"
    }
   ],
   "source": [
    "obesity_diagnosis(1.4, 65, 32, 'Male',3)"
   ]
  },
  {
   "cell_type": "code",
   "execution_count": 32,
   "id": "dada77ec",
   "metadata": {},
   "outputs": [
    {
     "data": {
      "text/plain": [
       "'No Obesity'"
      ]
     },
     "execution_count": 32,
     "metadata": {},
     "output_type": "execute_result"
    }
   ],
   "source": [
    "obesity_diagnosis(1.6, 55, 32, 'Female',2)"
   ]
  },
  {
   "cell_type": "code",
   "execution_count": 33,
   "id": "0e14e5b0",
   "metadata": {},
   "outputs": [
    {
     "data": {
      "text/plain": [
       "'Obesity'"
      ]
     },
     "execution_count": 33,
     "metadata": {},
     "output_type": "execute_result"
    }
   ],
   "source": [
    "obesity_diagnosis(1.3, 85, 32, 'Male',3)"
   ]
  },
  {
   "cell_type": "code",
   "execution_count": 34,
   "id": "3a5abe75",
   "metadata": {},
   "outputs": [
    {
     "data": {
      "text/plain": [
       "'No Obesity'"
      ]
     },
     "execution_count": 34,
     "metadata": {},
     "output_type": "execute_result"
    }
   ],
   "source": [
    "obesity_diagnosis(1.5, 58, 32, 'Male',3)"
   ]
  }
 ],
 "metadata": {
  "kernelspec": {
   "display_name": "Python 3",
   "language": "python",
   "name": "python3"
  },
  "language_info": {
   "codemirror_mode": {
    "name": "ipython",
    "version": 3
   },
   "file_extension": ".py",
   "mimetype": "text/x-python",
   "name": "python",
   "nbconvert_exporter": "python",
   "pygments_lexer": "ipython3",
   "version": "3.8.8"
  }
 },
 "nbformat": 4,
 "nbformat_minor": 5
}
